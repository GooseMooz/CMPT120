{
 "cells": [
  {
   "cell_type": "code",
   "execution_count": 55,
   "metadata": {
    "collapsed": true
   },
   "outputs": [],
   "source": [
    "alist = [15, 21, 15, 90, 32, 15, 15, 21, 32, 8]"
   ]
  },
  {
   "cell_type": "code",
   "execution_count": 56,
   "outputs": [],
   "source": [
    "def sort_by_freq(l):\n",
    "    count = {}\n",
    "    helper = []\n",
    "\n",
    "    for i in range(len(l)):\n",
    "        count[l[i]] = 0\n",
    "    for i in range(len(l)):\n",
    "        count[l[i]] += 1\n",
    "\n",
    "    for key in count.keys():\n",
    "        helper.append(key)\n",
    "\n",
    "    for i in range(len(helper) - 1):\n",
    "        for j in range(len(helper) - 1 - i):\n",
    "            if count[helper[j]] > count[helper[j + 1]]:\n",
    "                (helper[j], helper[j + 1]) = (helper[j + 1], helper[j])\n",
    "    for i in range(len(helper) - 1):\n",
    "        if count[helper[i]] == count[helper[i + 1]]:\n",
    "            if helper[i] > helper[i + 1]:\n",
    "                (helper[i], helper[i + 1]) = (helper[i + 1], helper[i])\n",
    "\n",
    "    counter = 0\n",
    "    for i in range(len(helper)):\n",
    "        for j in range(count[helper[i]]):\n",
    "            l[counter] = helper[i]\n",
    "            counter += 1"
   ],
   "metadata": {
    "collapsed": false
   }
  },
  {
   "cell_type": "code",
   "execution_count": 57,
   "outputs": [
    {
     "name": "stdout",
     "output_type": "stream",
     "text": [
      "[15, 21, 15, 90, 32, 15, 15, 21, 32, 8]\n",
      "[8, 90, 21, 21, 32, 32, 15, 15, 15, 15]\n"
     ]
    }
   ],
   "source": [
    "print(alist)\n",
    "sort_by_freq(alist)\n",
    "print(alist)"
   ],
   "metadata": {
    "collapsed": false
   }
  },
  {
   "cell_type": "code",
   "execution_count": 59,
   "outputs": [
    {
     "name": "stdout",
     "output_type": "stream",
     "text": [
      "def\n"
     ]
    }
   ],
   "source": [
    "bobs = \"abc def\"\n",
    "print(bobs.split()[1])"
   ],
   "metadata": {
    "collapsed": false
   }
  },
  {
   "cell_type": "code",
   "execution_count": null,
   "outputs": [],
   "source": [],
   "metadata": {
    "collapsed": false
   }
  }
 ],
 "metadata": {
  "kernelspec": {
   "display_name": "Python 3",
   "language": "python",
   "name": "python3"
  },
  "language_info": {
   "codemirror_mode": {
    "name": "ipython",
    "version": 2
   },
   "file_extension": ".py",
   "mimetype": "text/x-python",
   "name": "python",
   "nbconvert_exporter": "python",
   "pygments_lexer": "ipython2",
   "version": "2.7.6"
  }
 },
 "nbformat": 4,
 "nbformat_minor": 0
}
