{
 "cells": [
  {
   "cell_type": "code",
   "execution_count": 41,
   "metadata": {
    "collapsed": true
   },
   "outputs": [],
   "source": [
    "l = [10, 5, 2, 6, 1, 3]"
   ]
  },
  {
   "cell_type": "markdown",
   "source": [
    "# Bubble Sort\n",
    "### O(n^2)"
   ],
   "metadata": {
    "collapsed": false
   }
  },
  {
   "cell_type": "code",
   "execution_count": 2,
   "outputs": [],
   "source": [
    "def bubble_sort(li):\n",
    "    for i in range(len(li) - 1):\n",
    "        for j in range(len(li) - 1 - i):\n",
    "            if li[j] > li[j + 1]:\n",
    "                li[j], li[j + 1] = li[j + 1], li[j]"
   ],
   "metadata": {
    "collapsed": false
   }
  },
  {
   "cell_type": "code",
   "execution_count": 3,
   "outputs": [
    {
     "name": "stdout",
     "output_type": "stream",
     "text": [
      "[10, 5, 2, 6, 1, 3]\n",
      "[1, 2, 3, 5, 6, 10]\n"
     ]
    }
   ],
   "source": [
    "print(l)\n",
    "bubble_sort(l)\n",
    "print(l)"
   ],
   "metadata": {
    "collapsed": false
   }
  },
  {
   "cell_type": "markdown",
   "source": [
    "# Insertion sort\n",
    "### O(n^2)"
   ],
   "metadata": {
    "collapsed": false
   }
  },
  {
   "cell_type": "code",
   "execution_count": 42,
   "outputs": [],
   "source": [
    "def sorti(li):\n",
    "    for i in range(1, len(li)):\n",
    "        temp = li[i]\n",
    "        for j in range(i - 1, -1, -1):\n",
    "            if li[j] > temp:\n",
    "                li[j + 1] = li[j]\n",
    "            else:\n",
    "                li[j + 1] = temp\n",
    "                break\n",
    "            li[j] = temp"
   ],
   "metadata": {
    "collapsed": false
   }
  },
  {
   "cell_type": "code",
   "execution_count": 43,
   "outputs": [
    {
     "name": "stdout",
     "output_type": "stream",
     "text": [
      "[10, 5, 2, 6, 1, 3]\n",
      "[1, 2, 3, 5, 6, 10]\n"
     ]
    }
   ],
   "source": [
    "print(l)\n",
    "sorti(l)\n",
    "print(l)"
   ],
   "metadata": {
    "collapsed": false
   }
  },
  {
   "cell_type": "code",
   "execution_count": null,
   "outputs": [],
   "source": [],
   "metadata": {
    "collapsed": false
   }
  }
 ],
 "metadata": {
  "kernelspec": {
   "display_name": "Python 3",
   "language": "python",
   "name": "python3"
  },
  "language_info": {
   "codemirror_mode": {
    "name": "ipython",
    "version": 2
   },
   "file_extension": ".py",
   "mimetype": "text/x-python",
   "name": "python",
   "nbconvert_exporter": "python",
   "pygments_lexer": "ipython2",
   "version": "2.7.6"
  }
 },
 "nbformat": 4,
 "nbformat_minor": 0
}
