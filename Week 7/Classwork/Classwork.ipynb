{
 "cells": [
  {
   "cell_type": "code",
   "execution_count": 1,
   "metadata": {
    "collapsed": true
   },
   "outputs": [],
   "source": [
    "a = [23, -1, 10, 17, 8]"
   ]
  },
  {
   "cell_type": "code",
   "execution_count": 3,
   "outputs": [
    {
     "name": "stdout",
     "output_type": "stream",
     "text": [
      "[23, -1, 10, 17, 8]\n",
      "<class 'list'>\n",
      "5\n"
     ]
    }
   ],
   "source": [
    "print(a)\n",
    "print(type(a))\n",
    "print(len(a))"
   ],
   "metadata": {
    "collapsed": false
   }
  },
  {
   "cell_type": "code",
   "execution_count": 6,
   "outputs": [
    {
     "name": "stdout",
     "output_type": "stream",
     "text": [
      "17\n",
      "[17, 8]\n",
      "[23, -1, 10]\n",
      "[10, 17, 8]\n"
     ]
    }
   ],
   "source": [
    "print(a[3])\n",
    "print(a[3:5])\n",
    "print(a[:3])\n",
    "print(a[2:])"
   ],
   "metadata": {
    "collapsed": false
   }
  },
  {
   "cell_type": "code",
   "execution_count": 9,
   "outputs": [
    {
     "name": "stdout",
     "output_type": "stream",
     "text": [
      "[23, '-100', 10, 17, 8]\n"
     ]
    }
   ],
   "source": [
    "a[1] = '-100'\n",
    "print(a)"
   ],
   "metadata": {
    "collapsed": false
   }
  },
  {
   "cell_type": "code",
   "execution_count": 10,
   "outputs": [
    {
     "name": "stdout",
     "output_type": "stream",
     "text": [
      "[23, '-100', 10, 17, 8, 'ඞ']\n"
     ]
    }
   ],
   "source": [
    "a.append('ඞ')\n",
    "print(a)"
   ],
   "metadata": {
    "collapsed": false
   }
  },
  {
   "cell_type": "code",
   "execution_count": 15,
   "outputs": [],
   "source": [
    "def reverse_list(alist):\n",
    "    ans = []\n",
    "    for i in range(len(alist)):\n",
    "        ans.append(alist[-i - 1])\n",
    "    return ans"
   ],
   "metadata": {
    "collapsed": false
   }
  },
  {
   "cell_type": "code",
   "execution_count": 19,
   "outputs": [
    {
     "name": "stdout",
     "output_type": "stream",
     "text": [
      "['ඞ', 8, 17, 10, '-100', 23]\n"
     ]
    }
   ],
   "source": [
    "print(reverse_list(a))"
   ],
   "metadata": {
    "collapsed": false
   }
  },
  {
   "cell_type": "code",
   "execution_count": 20,
   "outputs": [],
   "source": [
    "b = [1, 3, 5, 7, 4, 4, 1]"
   ],
   "metadata": {
    "collapsed": false
   }
  },
  {
   "cell_type": "code",
   "execution_count": 21,
   "outputs": [],
   "source": [
    "def compute_sum(alist):\n",
    "    ans = 0\n",
    "    for i in range(len(alist)):\n",
    "        ans += alist[i]\n",
    "    return ans"
   ],
   "metadata": {
    "collapsed": false
   }
  },
  {
   "cell_type": "code",
   "execution_count": 22,
   "outputs": [
    {
     "name": "stdout",
     "output_type": "stream",
     "text": [
      "25\n"
     ]
    }
   ],
   "source": [
    "print(compute_sum(b))"
   ],
   "metadata": {
    "collapsed": false
   }
  },
  {
   "cell_type": "code",
   "execution_count": 29,
   "outputs": [],
   "source": [
    "def get_pivot(alist):\n",
    "    for i in range(1, len(alist)):\n",
    "        left_sum = 0\n",
    "        right_sum = 0\n",
    "        left = 0\n",
    "        right = len(alist) - 1\n",
    "        while left < i < right:\n",
    "            left_sum += alist[left]\n",
    "            right_sum += alist[right]\n",
    "            left += 1\n",
    "            right -= 1\n",
    "        if left_sum == right_sum:\n",
    "            return alist[i]"
   ],
   "metadata": {
    "collapsed": false
   }
  },
  {
   "cell_type": "code",
   "execution_count": 30,
   "outputs": [
    {
     "name": "stdout",
     "output_type": "stream",
     "text": [
      "3\n"
     ]
    }
   ],
   "source": [
    "print(get_pivot(b))"
   ],
   "metadata": {
    "collapsed": false
   }
  },
  {
   "cell_type": "code",
   "execution_count": null,
   "outputs": [],
   "source": [],
   "metadata": {
    "collapsed": false
   }
  }
 ],
 "metadata": {
  "kernelspec": {
   "display_name": "Python 3",
   "language": "python",
   "name": "python3"
  },
  "language_info": {
   "codemirror_mode": {
    "name": "ipython",
    "version": 2
   },
   "file_extension": ".py",
   "mimetype": "text/x-python",
   "name": "python",
   "nbconvert_exporter": "python",
   "pygments_lexer": "ipython2",
   "version": "2.7.6"
  }
 },
 "nbformat": 4,
 "nbformat_minor": 0
}
