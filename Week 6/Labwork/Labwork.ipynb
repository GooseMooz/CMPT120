{
 "cells": [
  {
   "cell_type": "code",
   "execution_count": 3,
   "metadata": {
    "collapsed": true
   },
   "outputs": [],
   "source": [
    "def find_char(string, char):\n",
    "    for i in range(len(string)):\n",
    "        if string[i] == char:\n",
    "            return i\n",
    "    return -1"
   ]
  },
  {
   "cell_type": "code",
   "execution_count": 7,
   "outputs": [
    {
     "name": "stdout",
     "output_type": "stream",
     "text": [
      "3\n"
     ]
    }
   ],
   "source": [
    "print(find_char('bibs', 's'))"
   ],
   "metadata": {
    "collapsed": false
   }
  },
  {
   "cell_type": "code",
   "execution_count": 14,
   "outputs": [],
   "source": [
    "def is_upper_case(string):\n",
    "    counter = 0\n",
    "    for i in range(len(string)):\n",
    "        if ord(string[i]) < 97:\n",
    "            counter += 1\n",
    "    if counter == len(string):\n",
    "        return True\n",
    "    return False"
   ],
   "metadata": {
    "collapsed": false
   }
  },
  {
   "cell_type": "code",
   "execution_count": 28,
   "outputs": [
    {
     "name": "stdout",
     "output_type": "stream",
     "text": [
      "True\n"
     ]
    }
   ],
   "source": [
    "print(is_upper_case('CMPT 120'))"
   ],
   "metadata": {
    "collapsed": false
   }
  },
  {
   "cell_type": "code",
   "execution_count": 21,
   "outputs": [],
   "source": [
    "def is_upper_case_only(string):\n",
    "    counter = 0\n",
    "    for i in range(len(string)):\n",
    "        if 64 < ord(string[i]) < 97:\n",
    "            counter += 1\n",
    "    if counter == len(string):\n",
    "        return True\n",
    "    return False"
   ],
   "metadata": {
    "collapsed": false
   }
  },
  {
   "cell_type": "code",
   "execution_count": 27,
   "outputs": [
    {
     "name": "stdout",
     "output_type": "stream",
     "text": [
      "False\n"
     ]
    }
   ],
   "source": [
    "print(is_upper_case_only('CMPT 120'))"
   ],
   "metadata": {
    "collapsed": false
   }
  },
  {
   "cell_type": "code",
   "execution_count": 29,
   "outputs": [],
   "source": [
    "def is_lower_case(string):\n",
    "    counter = 0\n",
    "    for i in range(len(string)):\n",
    "        if ord(string[i]) > 97 or ord(string[i]) < 65:\n",
    "            counter += 1\n",
    "    if counter == len(string):\n",
    "        return True\n",
    "    return False"
   ],
   "metadata": {
    "collapsed": false
   }
  },
  {
   "cell_type": "code",
   "execution_count": 30,
   "outputs": [
    {
     "name": "stdout",
     "output_type": "stream",
     "text": [
      "True\n"
     ]
    }
   ],
   "source": [
    "print(is_lower_case('cmpt 120'))"
   ],
   "metadata": {
    "collapsed": false
   }
  },
  {
   "cell_type": "code",
   "execution_count": 31,
   "outputs": [],
   "source": [
    "def is_lower_case_only(string):\n",
    "    counter = 0\n",
    "    for i in range(len(string)):\n",
    "        if 97 < ord(string[i]) < 129:\n",
    "            counter += 1\n",
    "    if counter == len(string):\n",
    "        return True\n",
    "    return False"
   ],
   "metadata": {
    "collapsed": false
   }
  },
  {
   "cell_type": "code",
   "execution_count": 32,
   "outputs": [
    {
     "name": "stdout",
     "output_type": "stream",
     "text": [
      "False\n"
     ]
    }
   ],
   "source": [
    "print(is_lower_case_only('cmpt 120'))"
   ],
   "metadata": {
    "collapsed": false
   }
  },
  {
   "cell_type": "code",
   "execution_count": 43,
   "outputs": [],
   "source": [
    "def is_digit_case(string):\n",
    "    counter = 0\n",
    "    for i in range(len(string)):\n",
    "        if ord(string[i]) > 31:\n",
    "            counter += 1\n",
    "    if counter == len(string):\n",
    "        return True\n",
    "    return False"
   ],
   "metadata": {
    "collapsed": false
   }
  },
  {
   "cell_type": "code",
   "execution_count": 44,
   "outputs": [
    {
     "name": "stdout",
     "output_type": "stream",
     "text": [
      "True\n"
     ]
    }
   ],
   "source": [
    "print(is_digit_case('CMPT 120'))"
   ],
   "metadata": {
    "collapsed": false
   }
  },
  {
   "cell_type": "code",
   "execution_count": 51,
   "outputs": [],
   "source": [
    "def is_digit_case_only(string):\n",
    "    counter = 0\n",
    "    for i in range(len(string)):\n",
    "        if 47 < ord(string[i]) < 58:\n",
    "            counter += 1\n",
    "    if counter == len(string):\n",
    "        return True\n",
    "    return False"
   ],
   "metadata": {
    "collapsed": false
   }
  },
  {
   "cell_type": "code",
   "execution_count": 52,
   "outputs": [
    {
     "name": "stdout",
     "output_type": "stream",
     "text": [
      "True\n"
     ]
    }
   ],
   "source": [
    "print(is_digit_case_only('9'))"
   ],
   "metadata": {
    "collapsed": false
   }
  },
  {
   "cell_type": "code",
   "execution_count": 53,
   "outputs": [],
   "source": [
    "def contains_distinct_characters(string):\n",
    "    for i in range(len(string)):\n",
    "        counter = 0\n",
    "        for j in range(len(string)):\n",
    "            if string[i] == string[j]:\n",
    "                counter += 1\n",
    "        if counter > 1:\n",
    "            return False\n",
    "    return True"
   ],
   "metadata": {
    "collapsed": false
   }
  },
  {
   "cell_type": "code",
   "execution_count": 56,
   "outputs": [
    {
     "name": "stdout",
     "output_type": "stream",
     "text": [
      "False\n"
     ]
    }
   ],
   "source": [
    "print(contains_distinct_characters('cmpt 120 '))"
   ],
   "metadata": {
    "collapsed": false
   }
  },
  {
   "cell_type": "code",
   "execution_count": 57,
   "outputs": [],
   "source": [
    "def is_contained(s1, s2):\n",
    "    counter = 0\n",
    "    for i in range(len(s2)):\n",
    "        for j in range(len(s1)):\n",
    "            if s2[i] == s1[j]:\n",
    "                counter += 1\n",
    "    if counter >= len(s2):\n",
    "        return True\n",
    "    else:\n",
    "        return False"
   ],
   "metadata": {
    "collapsed": false
   }
  },
  {
   "cell_type": "code",
   "execution_count": 58,
   "outputs": [
    {
     "name": "stdout",
     "output_type": "stream",
     "text": [
      "True\n"
     ]
    }
   ],
   "source": [
    "print(is_contained('compound 120t', 'cmpt 120'))"
   ],
   "metadata": {
    "collapsed": false
   }
  },
  {
   "cell_type": "code",
   "execution_count": 59,
   "outputs": [],
   "source": [
    "def count_character(string, character):\n",
    "    counter = 0\n",
    "    for i in range(len(string)):\n",
    "        if string[i] == character:\n",
    "            counter += 1\n",
    "    return counter"
   ],
   "metadata": {
    "collapsed": false
   }
  },
  {
   "cell_type": "code",
   "execution_count": 62,
   "outputs": [
    {
     "name": "stdout",
     "output_type": "stream",
     "text": [
      "2\n"
     ]
    }
   ],
   "source": [
    "print(count_character('cmmpt 120', 'm'))"
   ],
   "metadata": {
    "collapsed": false
   }
  },
  {
   "cell_type": "code",
   "execution_count": 96,
   "outputs": [],
   "source": [
    "def is_reverse(s1, s2):\n",
    "    counter = 0\n",
    "    for i in range(len(s1)):\n",
    "        j = i + 1\n",
    "        if s1[i] == s2[-j]:\n",
    "            counter += 1\n",
    "    if counter == len(s1):\n",
    "        return True\n",
    "    else:\n",
    "        return False"
   ],
   "metadata": {
    "collapsed": false
   }
  },
  {
   "cell_type": "code",
   "execution_count": 97,
   "outputs": [
    {
     "name": "stdout",
     "output_type": "stream",
     "text": [
      "True\n"
     ]
    }
   ],
   "source": [
    "print(is_reverse('bibs', 'sbib'))"
   ],
   "metadata": {
    "collapsed": false
   }
  },
  {
   "cell_type": "code",
   "execution_count": 107,
   "outputs": [],
   "source": [
    "def does_contain_lower_case(string):\n",
    "    for i in range(len(string)):\n",
    "        if ord(string[i]) > 97:\n",
    "            return True\n",
    "    return False"
   ],
   "metadata": {
    "collapsed": false
   }
  },
  {
   "cell_type": "code",
   "execution_count": 108,
   "outputs": [
    {
     "name": "stdout",
     "output_type": "stream",
     "text": [
      "True\n"
     ]
    }
   ],
   "source": [
    "print(does_contain_lower_case('BiBS'))"
   ],
   "metadata": {
    "collapsed": false
   }
  },
  {
   "cell_type": "code",
   "execution_count": 111,
   "outputs": [],
   "source": [
    "def capitalize_english_chars(string):\n",
    "    answer = ''\n",
    "    for i in range(len(string)):\n",
    "        if ord(string[i]) > 97:\n",
    "            answer += chr(ord(string[i]) - 32)\n",
    "        else:\n",
    "            answer += string[i]\n",
    "    return answer"
   ],
   "metadata": {
    "collapsed": false
   }
  },
  {
   "cell_type": "code",
   "execution_count": 112,
   "outputs": [
    {
     "name": "stdout",
     "output_type": "stream",
     "text": [
      "BIBS\n"
     ]
    }
   ],
   "source": [
    "print(capitalize_english_chars('bIbs'))"
   ],
   "metadata": {
    "collapsed": false
   }
  },
  {
   "cell_type": "code",
   "execution_count": 125,
   "outputs": [],
   "source": [
    "def is_palindrome(string):\n",
    "    cnt = 0\n",
    "    for j in range(len(string) // 2):\n",
    "        if string[j] == string[len(string) - 1 - j]:\n",
    "            cnt += 1\n",
    "    if cnt == len(string) // 2:\n",
    "        return True\n",
    "    else:\n",
    "        return False"
   ],
   "metadata": {
    "collapsed": false
   }
  },
  {
   "cell_type": "code",
   "execution_count": 126,
   "outputs": [
    {
     "name": "stdout",
     "output_type": "stream",
     "text": [
      "True\n"
     ]
    }
   ],
   "source": [
    "print(is_palindrome('bib'))"
   ],
   "metadata": {
    "collapsed": false
   }
  },
  {
   "cell_type": "code",
   "execution_count": 128,
   "outputs": [],
   "source": [
    "def is_pandrome(string):\n",
    "    counter = 0\n",
    "    for i in range(len(string)):\n",
    "        if string[i].isalpha() or ord(string[i]) == 32:\n",
    "            counter += 1\n",
    "    if counter == len(string):\n",
    "        return True\n",
    "    else:\n",
    "        return False"
   ],
   "metadata": {
    "collapsed": false
   }
  },
  {
   "cell_type": "code",
   "execution_count": 129,
   "outputs": [
    {
     "name": "stdout",
     "output_type": "stream",
     "text": [
      "True\n"
     ]
    }
   ],
   "source": [
    "print(is_pandrome('the quick brown fox jumps over the lazy dog'))"
   ],
   "metadata": {
    "collapsed": false
   }
  },
  {
   "cell_type": "code",
   "execution_count": 130,
   "outputs": [],
   "source": [
    "def common_chars(s1, s2):\n",
    "    answer = ''\n",
    "    for i in range(len(s1)):\n",
    "        for j in range(len(s2)):\n",
    "            if s1[i] == s2[j]:\n",
    "                answer += s1[i]\n",
    "                break\n",
    "    return answer"
   ],
   "metadata": {
    "collapsed": false
   }
  },
  {
   "cell_type": "code",
   "execution_count": 133,
   "outputs": [
    {
     "name": "stdout",
     "output_type": "stream",
     "text": [
      "amogus\n"
     ]
    }
   ],
   "source": [
    "print(common_chars('among us', 'amogus'))"
   ],
   "metadata": {
    "collapsed": false
   }
  },
  {
   "cell_type": "code",
   "execution_count": 2,
   "outputs": [],
   "source": [
    "def rotate_word(string, integer):\n",
    "    if integer < 0:\n",
    "        integer %= 32\n",
    "        integer = 32 + integer\n",
    "    answer = ''\n",
    "    for i in range(len(string)):\n",
    "        letter = string[i]\n",
    "        if ord(string[i]) < 91:\n",
    "            num = (ord(string[i]) - 64 + integer) % 32 + 64 #27 1\n",
    "            letter = chr(num)\n",
    "        answer += letter\n",
    "    return answer"
   ],
   "metadata": {
    "collapsed": false
   }
  },
  {
   "cell_type": "code",
   "execution_count": 3,
   "outputs": [
    {
     "name": "stdout",
     "output_type": "stream",
     "text": [
      "JOLLY\n"
     ]
    }
   ],
   "source": [
    "print(rotate_word('CHEER', 7))"
   ],
   "metadata": {
    "collapsed": false
   }
  }
 ],
 "metadata": {
  "kernelspec": {
   "display_name": "Python 3",
   "language": "python",
   "name": "python3"
  },
  "language_info": {
   "codemirror_mode": {
    "name": "ipython",
    "version": 2
   },
   "file_extension": ".py",
   "mimetype": "text/x-python",
   "name": "python",
   "nbconvert_exporter": "python",
   "pygments_lexer": "ipython2",
   "version": "2.7.6"
  }
 },
 "nbformat": 4,
 "nbformat_minor": 0
}
