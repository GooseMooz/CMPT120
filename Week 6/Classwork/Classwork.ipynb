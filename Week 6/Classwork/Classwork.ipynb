{
 "cells": [
  {
   "cell_type": "code",
   "execution_count": 16,
   "outputs": [],
   "source": [
    "s = 'Hello World'"
   ],
   "metadata": {
    "collapsed": false
   }
  },
  {
   "cell_type": "code",
   "execution_count": null,
   "outputs": [],
   "source": [
    "for i in range(len(s) - 1, -1, -1):\n",
    "    print(s[i])\n",
    "\n",
    "print('=============')\n",
    "\n",
    "for i in range(len(s)):\n",
    "    print(s[len(s) - 1 - i])\n"
   ],
   "metadata": {
    "collapsed": false,
    "pycharm": {
     "is_executing": true
    }
   }
  },
  {
   "cell_type": "code",
   "execution_count": 1,
   "outputs": [
    {
     "name": "stdout",
     "output_type": "stream",
     "text": [
      "bib\n",
      "True\n"
     ]
    }
   ],
   "source": [
    "def is_palindrome(string):\n",
    "    cnt = 0\n",
    "    for j in range(len(string) // 2):\n",
    "        if string[j] == string[len(string) - 1 - j]:\n",
    "            cnt += 1\n",
    "    if cnt == len(string) // 2:\n",
    "        print('True')\n",
    "    else:\n",
    "        print('False')\n",
    "\n",
    "\n",
    "n = str(input(\"Enter your string: \"))\n",
    "print(n)\n",
    "\n",
    "is_palindrome(n)"
   ],
   "metadata": {
    "collapsed": false
   }
  },
  {
   "cell_type": "code",
   "execution_count": 2,
   "outputs": [
    {
     "ename": "NameError",
     "evalue": "name 's' is not defined",
     "output_type": "error",
     "traceback": [
      "\u001B[0;31m---------------------------------------------------------------------------\u001B[0m",
      "\u001B[0;31mNameError\u001B[0m                                 Traceback (most recent call last)",
      "Cell \u001B[0;32mIn[2], line 2\u001B[0m\n\u001B[1;32m      1\u001B[0m \u001B[38;5;66;03m# empty string\u001B[39;00m\n\u001B[0;32m----> 2\u001B[0m e \u001B[38;5;241m=\u001B[39m \u001B[43ms\u001B[49m[\u001B[38;5;241m20\u001B[39m:\u001B[38;5;241m30\u001B[39m]\n\u001B[1;32m      3\u001B[0m \u001B[38;5;28mprint\u001B[39m(e)\n\u001B[1;32m      4\u001B[0m \u001B[38;5;28mprint\u001B[39m(\u001B[38;5;28mtype\u001B[39m(e))\n",
      "\u001B[0;31mNameError\u001B[0m: name 's' is not defined"
     ]
    }
   ],
   "source": [
    "# empty string\n",
    "e = s[20:30]\n",
    "print(e)\n",
    "print(type(e))\n",
    "print(len(e))"
   ],
   "metadata": {
    "collapsed": false
   }
  },
  {
   "cell_type": "code",
   "execution_count": 6,
   "outputs": [
    {
     "name": "stdout",
     "output_type": "stream",
     "text": [
      "Hello Torld\n"
     ]
    }
   ],
   "source": [
    "s = s[:6] + 'T' + s[7:]\n",
    "print(s)"
   ],
   "metadata": {
    "collapsed": false
   }
  },
  {
   "cell_type": "code",
   "execution_count": 5,
   "outputs": [
    {
     "name": "stdout",
     "output_type": "stream",
     "text": [
      "dlroW olleH\n"
     ]
    }
   ],
   "source": [
    "e = ''\n",
    "for i in range(len(s)):\n",
    "    e = s[i] + e\n",
    "print(e)"
   ],
   "metadata": {
    "collapsed": false
   }
  },
  {
   "cell_type": "code",
   "execution_count": null,
   "outputs": [],
   "source": [
    "def is_found(string, char):\n",
    "    for j in range(len(string)):\n",
    "        if string[j] == char:\n",
    "            return True\n",
    "    return False"
   ],
   "metadata": {
    "collapsed": false
   }
  },
  {
   "cell_type": "code",
   "execution_count": null,
   "outputs": [],
   "source": [
    "print(n)\n",
    "is_found(n, 'd')"
   ],
   "metadata": {
    "collapsed": false
   }
  },
  {
   "cell_type": "code",
   "execution_count": 17,
   "outputs": [
    {
     "name": "stdout",
     "output_type": "stream",
     "text": [
      "Helo Wrd\n"
     ]
    }
   ],
   "source": [
    "def remove_duplicates(string):\n",
    "    ans = ''\n",
    "    for j in range(len(string)):\n",
    "        if not is_found(ans, string[j]):\n",
    "            ans += string[j]\n",
    "    return ans"
   ],
   "metadata": {
    "collapsed": false
   }
  },
  {
   "cell_type": "code",
   "execution_count": 18,
   "outputs": [
    {
     "name": "stdout",
     "output_type": "stream",
     "text": [
      "Helo Wrd\n"
     ]
    }
   ],
   "source": [
    "print(remove_duplicates(s))"
   ],
   "metadata": {
    "collapsed": false
   }
  },
  {
   "cell_type": "code",
   "execution_count": 35,
   "outputs": [],
   "source": [
    "def replace_str(string, old, new):\n",
    "    ans = ''\n",
    "    j = 0\n",
    "    while j < len(string):\n",
    "        if string[j : j + len(old)] == old:\n",
    "            ans += new\n",
    "            j += len(old)\n",
    "        else:\n",
    "            ans += string[j]\n",
    "            j += 1\n",
    "    return ans"
   ],
   "metadata": {
    "collapsed": false
   }
  },
  {
   "cell_type": "code",
   "execution_count": 40,
   "outputs": [
    {
     "name": "stdout",
     "output_type": "stream",
     "text": [
      "Hebobio World\n"
     ]
    }
   ],
   "source": [
    "print(replace_str(s,'ll', 'bobi'))"
   ],
   "metadata": {
    "collapsed": false
   }
  },
  {
   "cell_type": "code",
   "execution_count": 19,
   "outputs": [],
   "source": [
    "def to_str(number):\n",
    "    ans = ''\n",
    "    j = 0\n",
    "    cnt = 0\n",
    "    temp = number\n",
    "    if temp == 0:\n",
    "        return '0'\n",
    "    while j < temp:\n",
    "        ans = chr(number % 10 + ord('0')) + ans\n",
    "        j += (number % 10) * (10 ** cnt)\n",
    "        cnt += 1\n",
    "        number //= 10\n",
    "    return ans"
   ],
   "metadata": {
    "collapsed": false
   }
  },
  {
   "cell_type": "code",
   "execution_count": 70,
   "outputs": [
    {
     "name": "stdout",
     "output_type": "stream",
     "text": [
      "123\n"
     ]
    }
   ],
   "source": [
    "print(to_str(123))"
   ],
   "metadata": {
    "collapsed": false
   }
  },
  {
   "cell_type": "code",
   "execution_count": 2,
   "outputs": [],
   "source": [
    "def eq(s1, s2):\n",
    "    if len(s1) != len(s2):\n",
    "        return False\n",
    "    else:\n",
    "        for j in range(len(s1)):\n",
    "            if s1[j] != s2[j]:\n",
    "                return False\n",
    "        return True"
   ],
   "metadata": {
    "collapsed": false
   }
  },
  {
   "cell_type": "code",
   "execution_count": 24,
   "outputs": [
    {
     "name": "stdout",
     "output_type": "stream",
     "text": [
      "False\n"
     ]
    }
   ],
   "source": [
    "print(eq('bobi', 'centre'))"
   ],
   "metadata": {
    "collapsed": false
   }
  }
 ],
 "metadata": {
  "kernelspec": {
   "display_name": "Python 3",
   "language": "python",
   "name": "python3"
  },
  "language_info": {
   "codemirror_mode": {
    "name": "ipython",
    "version": 2
   },
   "file_extension": ".py",
   "mimetype": "text/x-python",
   "name": "python",
   "nbconvert_exporter": "python",
   "pygments_lexer": "ipython2",
   "version": "2.7.6"
  }
 },
 "nbformat": 4,
 "nbformat_minor": 0
}
