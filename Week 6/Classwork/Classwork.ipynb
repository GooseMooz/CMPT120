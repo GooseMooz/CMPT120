{
 "cells": [
  {
   "cell_type": "code",
   "execution_count": 16,
   "outputs": [],
   "source": [
    "s = 'Hello World'"
   ],
   "metadata": {
    "collapsed": false
   }
  },
  {
   "cell_type": "code",
   "execution_count": null,
   "outputs": [],
   "source": [
    "for i in range(len(s) - 1, -1, -1):\n",
    "    print(s[i])\n",
    "\n",
    "print('=============')\n",
    "\n",
    "for i in range(len(s)):\n",
    "    print(s[len(s) - 1 - i])\n"
   ],
   "metadata": {
    "collapsed": false,
    "pycharm": {
     "is_executing": true
    }
   }
  },
  {
   "cell_type": "code",
   "execution_count": 11,
   "outputs": [
    {
     "name": "stdout",
     "output_type": "stream",
     "text": [
      "abcba\n",
      "True\n"
     ]
    }
   ],
   "source": [
    "def is_palindrome(string):\n",
    "    cnt = 0\n",
    "    for j in range(len(string) // 2):\n",
    "        if string[j] == string[len(string) - 1 - j]:\n",
    "            cnt += 1\n",
    "    if cnt == len(string) // 2:\n",
    "        print('True')\n",
    "    else:\n",
    "        print('False')\n",
    "\n",
    "\n",
    "n = str(input(\"Enter your string: \"))\n",
    "print(n)\n",
    "\n",
    "is_palindrome(n)"
   ],
   "metadata": {
    "collapsed": false
   }
  },
  {
   "cell_type": "code",
   "execution_count": 9,
   "outputs": [
    {
     "name": "stdout",
     "output_type": "stream",
     "text": [
      "\n",
      "<class 'str'>\n",
      "0\n"
     ]
    }
   ],
   "source": [
    "# empty string\n",
    "e = s[20:30]\n",
    "print(e)\n",
    "print(type(e))\n",
    "print(len(e))"
   ],
   "metadata": {
    "collapsed": false
   }
  },
  {
   "cell_type": "code",
   "execution_count": 6,
   "outputs": [
    {
     "name": "stdout",
     "output_type": "stream",
     "text": [
      "Hello Torld\n"
     ]
    }
   ],
   "source": [
    "s = s[:6] + 'T' + s[7:]\n",
    "print(s)"
   ],
   "metadata": {
    "collapsed": false
   }
  },
  {
   "cell_type": "code",
   "execution_count": 5,
   "outputs": [
    {
     "name": "stdout",
     "output_type": "stream",
     "text": [
      "dlroW olleH\n"
     ]
    }
   ],
   "source": [
    "e = ''\n",
    "for i in range(len(s)):\n",
    "    e = s[i] + e\n",
    "print(e)"
   ],
   "metadata": {
    "collapsed": false
   }
  },
  {
   "cell_type": "code",
   "execution_count": null,
   "outputs": [],
   "source": [
    "def is_found(string, char):\n",
    "    for j in range(len(string)):\n",
    "        if string[j] == char:\n",
    "            return True\n",
    "    return False"
   ],
   "metadata": {
    "collapsed": false
   }
  },
  {
   "cell_type": "code",
   "execution_count": null,
   "outputs": [],
   "source": [
    "print(n)\n",
    "is_found(n, 'd')"
   ],
   "metadata": {
    "collapsed": false
   }
  },
  {
   "cell_type": "code",
   "execution_count": 17,
   "outputs": [
    {
     "name": "stdout",
     "output_type": "stream",
     "text": [
      "Helo Wrd\n"
     ]
    }
   ],
   "source": [
    "def remove_duplicates(string):\n",
    "    ans = ''\n",
    "    for j in range(len(string)):\n",
    "        if not is_found(ans, string[j]):\n",
    "            ans += string[j]\n",
    "    return ans"
   ],
   "metadata": {
    "collapsed": false
   }
  },
  {
   "cell_type": "code",
   "execution_count": 18,
   "outputs": [
    {
     "name": "stdout",
     "output_type": "stream",
     "text": [
      "Helo Wrd\n"
     ]
    }
   ],
   "source": [
    "print(remove_duplicates(s))"
   ],
   "metadata": {
    "collapsed": false
   }
  },
  {
   "cell_type": "code",
   "execution_count": 35,
   "outputs": [],
   "source": [
    "def replace_str(string, old, new):\n",
    "    ans = ''\n",
    "    j = 0\n",
    "    while j < len(string):\n",
    "        if string[j : j + len(old)] == old:\n",
    "            ans += new\n",
    "            j += len(old)\n",
    "        else:\n",
    "            ans += string[j]\n",
    "            j += 1\n",
    "    return ans"
   ],
   "metadata": {
    "collapsed": false
   }
  },
  {
   "cell_type": "code",
   "execution_count": 36,
   "outputs": [
    {
     "name": "stdout",
     "output_type": "stream",
     "text": [
      "Hebobo World\n"
     ]
    }
   ],
   "source": [
    "print(replace_str(s,'ll', 'bobi'))"
   ],
   "metadata": {
    "collapsed": false
   }
  },
  {
   "cell_type": "code",
   "execution_count": null,
   "outputs": [],
   "source": [],
   "metadata": {
    "collapsed": false
   }
  }
 ],
 "metadata": {
  "kernelspec": {
   "display_name": "Python 3",
   "language": "python",
   "name": "python3"
  },
  "language_info": {
   "codemirror_mode": {
    "name": "ipython",
    "version": 2
   },
   "file_extension": ".py",
   "mimetype": "text/x-python",
   "name": "python",
   "nbconvert_exporter": "python",
   "pygments_lexer": "ipython2",
   "version": "2.7.6"
  }
 },
 "nbformat": 4,
 "nbformat_minor": 0
}
