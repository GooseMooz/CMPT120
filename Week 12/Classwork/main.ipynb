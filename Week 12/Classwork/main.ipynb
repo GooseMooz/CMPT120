{
 "cells": [
  {
   "cell_type": "markdown",
   "source": [
    "# Recursion"
   ],
   "metadata": {
    "collapsed": false
   }
  },
  {
   "cell_type": "code",
   "execution_count": 2,
   "outputs": [],
   "source": [
    "def print_rev(n):\n",
    "    if n == 0:\n",
    "        return\n",
    "    else:\n",
    "        print(n % 10)\n",
    "        print_rev(n // 10)"
   ],
   "metadata": {
    "collapsed": false
   }
  },
  {
   "cell_type": "code",
   "execution_count": 3,
   "outputs": [
    {
     "name": "stdout",
     "output_type": "stream",
     "text": [
      "4\n",
      "3\n",
      "2\n",
      "1\n"
     ]
    }
   ],
   "source": [
    "print_rev(1234)"
   ],
   "metadata": {
    "collapsed": false
   }
  },
  {
   "cell_type": "code",
   "execution_count": 8,
   "outputs": [],
   "source": [
    "def fib(n):\n",
    "    if n == 1 or n == 2:\n",
    "        return 1\n",
    "    else:\n",
    "        return fib(n - 1) + fib(n - 2)"
   ],
   "metadata": {
    "collapsed": false
   }
  },
  {
   "cell_type": "code",
   "execution_count": 13,
   "outputs": [
    {
     "name": "stdout",
     "output_type": "stream",
     "text": [
      "8\n"
     ]
    }
   ],
   "source": [
    "print(fib(6))"
   ],
   "metadata": {
    "collapsed": false
   }
  },
  {
   "cell_type": "code",
   "execution_count": 14,
   "outputs": [],
   "source": [
    "def tower_Hanoi(n, from_peg, to_peg, mid_peg):\n",
    "    if n == 0:\n",
    "        return\n",
    "    else:\n",
    "        tower_Hanoi(n - 1, from_peg, mid_peg, to_peg)\n",
    "        print('Move top disk', from_peg, 'to', to_peg)\n",
    "        tower_Hanoi(n - 1, mid_peg, to_peg, from_peg)"
   ],
   "metadata": {
    "collapsed": false
   }
  },
  {
   "cell_type": "code",
   "execution_count": 15,
   "outputs": [
    {
     "name": "stdout",
     "output_type": "stream",
     "text": [
      "Move top disk A to C\n",
      "Move top disk A to B\n",
      "Move top disk C to B\n",
      "Move top disk A to C\n",
      "Move top disk B to A\n",
      "Move top disk B to C\n",
      "Move top disk A to C\n"
     ]
    }
   ],
   "source": [
    "tower_Hanoi(3, 'A', 'C', 'B')"
   ],
   "metadata": {
    "collapsed": false
   }
  },
  {
   "cell_type": "code",
   "execution_count": null,
   "outputs": [],
   "source": [
    "def linear_search(alist, val, index):\n"
   ],
   "metadata": {
    "collapsed": false
   }
  }
 ],
 "metadata": {
  "kernelspec": {
   "display_name": "Python 3",
   "language": "python",
   "name": "python3"
  },
  "language_info": {
   "codemirror_mode": {
    "name": "ipython",
    "version": 2
   },
   "file_extension": ".py",
   "mimetype": "text/x-python",
   "name": "python",
   "nbconvert_exporter": "python",
   "pygments_lexer": "ipython2",
   "version": "2.7.6"
  }
 },
 "nbformat": 4,
 "nbformat_minor": 0
}
