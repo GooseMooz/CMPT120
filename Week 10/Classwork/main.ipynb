{
 "cells": [
  {
   "cell_type": "code",
   "execution_count": 26,
   "metadata": {
    "collapsed": true
   },
   "outputs": [],
   "source": [
    "infile = open('mydata.txt', 'r')"
   ]
  },
  {
   "cell_type": "code",
   "execution_count": 7,
   "outputs": [
    {
     "name": "stdout",
     "output_type": "stream",
     "text": [
      "1850                  -0.37                                       2.24E-7\n",
      "\n",
      "1860                  -0.34                                       3.94E-7\n",
      "\n",
      "1870                  -0.28                                       6.6E-7\n",
      "\n",
      "1880                  -0.24                                       1.1\n",
      "\n",
      "1890                  -0.42                                       1.72\n",
      "\n",
      "1900                  -0.2                                        2.38\n",
      "\n",
      "1910                  -0.49                                       3.34\n",
      "\n",
      "1920                  -0.25                                       4.01\n",
      "\n",
      "1930                  -0.14                                       4.53\n",
      "\n",
      "1940                   0.01                                       5.5\n",
      "\n",
      "1950                  -0.17                                       6.63\n",
      "\n",
      "1960                  -0.05                                       10.5\n",
      "\n",
      "1970                  -0.03                                       16\n",
      "\n",
      "1980                   0.09                                       20.3\n",
      "\n",
      "1990                   0.3                                        22.6\n",
      "\n",
      "2000                   0.29                                       24.9\n",
      "\n",
      "2010                   0.56                                       32.7\n",
      "\n",
      "2019                   0.74                                       33.3\n"
     ]
    }
   ],
   "source": [
    "for i in infile:\n",
    "    print(i)"
   ],
   "metadata": {
    "collapsed": false
   }
  },
  {
   "cell_type": "code",
   "execution_count": 11,
   "outputs": [
    {
     "name": "stdout",
     "output_type": "stream",
     "text": [
      "1850                  -0.37                                       2.24E-7\n",
      "1860                  -0.34                                       3.94E-7\n",
      "1870                  -0.28                                       6.6E-7\n",
      "1880                  -0.24                                       1.1\n",
      "1890                  -0.42                                       1.72\n",
      "1900                  -0.2                                        2.38\n",
      "1910                  -0.49                                       3.34\n",
      "1920                  -0.25                                       4.01\n",
      "1930                  -0.14                                       4.53\n",
      "1940                   0.01                                       5.5\n",
      "1950                  -0.17                                       6.63\n",
      "1960                  -0.05                                       10.5\n",
      "1970                  -0.03                                       16\n",
      "1980                   0.09                                       20.3\n",
      "1990                   0.3                                        22.6\n",
      "2000                   0.29                                       24.9\n",
      "2010                   0.56                                       32.7\n",
      "2019                   0.74                                       33.3\n"
     ]
    }
   ],
   "source": [
    "test = infile.read() # returns only string that you didn't read\n",
    "print(test)"
   ],
   "metadata": {
    "collapsed": false
   }
  },
  {
   "cell_type": "code",
   "execution_count": 14,
   "outputs": [
    {
     "name": "stdout",
     "output_type": "stream",
     "text": [
      "1880                  -0.24                                       1.1\n",
      " 1890                  -0.42                                       1.72\n",
      " 1900                  -0.2                                        2.38\n",
      "\n"
     ]
    }
   ],
   "source": [
    "line1 = infile.readline()\n",
    "line2 = infile.readline()\n",
    "line3 = infile.readline()\n",
    "print(line1, line2, line3)"
   ],
   "metadata": {
    "collapsed": false
   }
  },
  {
   "cell_type": "code",
   "execution_count": 16,
   "outputs": [
    {
     "name": "stdout",
     "output_type": "stream",
     "text": [
      "1850                  -0.37                                       2.24E-7\n",
      "\n",
      "1860                  -0.34                                       3.94E-7\n",
      "\n",
      "1870                  -0.28                                       6.6E-7\n",
      "\n",
      "1880                  -0.24                                       1.1\n",
      "\n",
      "1890                  -0.42                                       1.72\n",
      "\n",
      "1900                  -0.2                                        2.38\n",
      "\n",
      "1910                  -0.49                                       3.34\n",
      "\n",
      "1920                  -0.25                                       4.01\n",
      "\n",
      "1930                  -0.14                                       4.53\n",
      "\n",
      "1940                   0.01                                       5.5\n",
      "\n",
      "1950                  -0.17                                       6.63\n",
      "\n",
      "1960                  -0.05                                       10.5\n",
      "\n",
      "1970                  -0.03                                       16\n",
      "\n",
      "1980                   0.09                                       20.3\n",
      "\n",
      "1990                   0.3                                        22.6\n",
      "\n",
      "2000                   0.29                                       24.9\n",
      "\n",
      "2010                   0.56                                       32.7\n",
      "\n",
      "2019                   0.74                                       33.3\n"
     ]
    }
   ],
   "source": [
    "line = infile.readline()\n",
    "while line:\n",
    "    print(line)\n",
    "    line = infile.readline()"
   ],
   "metadata": {
    "collapsed": false
   }
  },
  {
   "cell_type": "code",
   "execution_count": 17,
   "outputs": [
    {
     "name": "stdout",
     "output_type": "stream",
     "text": [
      "['Hello', 'World', 'bye']\n"
     ]
    }
   ],
   "source": [
    "message = 'Hello      World bye    '\n",
    "l = message.split()\n",
    "print(l)"
   ],
   "metadata": {
    "collapsed": false
   }
  },
  {
   "cell_type": "code",
   "execution_count": 23,
   "outputs": [
    {
     "name": "stdout",
     "output_type": "stream",
     "text": [
      "['1850', '-0.37', '2.24E-7']\n",
      "['1860', '-0.34', '3.94E-7']\n",
      "['1870', '-0.28', '6.6E-7']\n",
      "['1880', '-0.24', '1.1']\n",
      "['1890', '-0.42', '1.72']\n",
      "['1900', '-0.2', '2.38']\n",
      "['1910', '-0.49', '3.34']\n",
      "['1920', '-0.25', '4.01']\n",
      "['1930', '-0.14', '4.53']\n",
      "['1940', '0.01', '5.5']\n",
      "['1950', '-0.17', '6.63']\n",
      "['1960', '-0.05', '10.5']\n",
      "['1970', '-0.03', '16']\n",
      "['1980', '0.09', '20.3']\n",
      "['1990', '0.3', '22.6']\n",
      "['2000', '0.29', '24.9']\n",
      "['2010', '0.56', '32.7']\n",
      "['2019', '0.74', '33.3']\n",
      "----------------------\n",
      "[['1850', '-0.37', '2.24E-7'], ['1860', '-0.34', '3.94E-7'], ['1870', '-0.28', '6.6E-7'], ['1880', '-0.24', '1.1'], ['1890', '-0.42', '1.72'], ['1900', '-0.2', '2.38'], ['1910', '-0.49', '3.34'], ['1920', '-0.25', '4.01'], ['1930', '-0.14', '4.53'], ['1940', '0.01', '5.5'], ['1950', '-0.17', '6.63'], ['1960', '-0.05', '10.5'], ['1970', '-0.03', '16'], ['1980', '0.09', '20.3'], ['1990', '0.3', '22.6'], ['2000', '0.29', '24.9'], ['2010', '0.56', '32.7'], ['2019', '0.74', '33.3']]\n"
     ]
    }
   ],
   "source": [
    "line = infile.readline()\n",
    "datq = []\n",
    "while line:\n",
    "    print(line.split())\n",
    "    datq.append(line.split())\n",
    "    line = infile.readline()\n",
    "print(\"----------------------\")\n",
    "print(datq)"
   ],
   "metadata": {
    "collapsed": false
   }
  },
  {
   "cell_type": "code",
   "execution_count": 30,
   "outputs": [
    {
     "name": "stdout",
     "output_type": "stream",
     "text": [
      "['1880                  -0.24                                       1.1\\n', '1890                  -0.42                                       1.72\\n']\n"
     ]
    }
   ],
   "source": [
    "lines = infile.readlines(100) # <-- number of maximum BYTES returned\n",
    "print(lines)"
   ],
   "metadata": {
    "collapsed": false
   }
  },
  {
   "cell_type": "code",
   "execution_count": null,
   "outputs": [],
   "source": [],
   "metadata": {
    "collapsed": false
   }
  }
 ],
 "metadata": {
  "kernelspec": {
   "display_name": "Python 3",
   "language": "python",
   "name": "python3"
  },
  "language_info": {
   "codemirror_mode": {
    "name": "ipython",
    "version": 2
   },
   "file_extension": ".py",
   "mimetype": "text/x-python",
   "name": "python",
   "nbconvert_exporter": "python",
   "pygments_lexer": "ipython2",
   "version": "2.7.6"
  }
 },
 "nbformat": 4,
 "nbformat_minor": 0
}
