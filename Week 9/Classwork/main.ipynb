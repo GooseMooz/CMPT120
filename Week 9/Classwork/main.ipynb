{
 "cells": [
  {
   "cell_type": "markdown",
   "source": [
    "# Tuples"
   ],
   "metadata": {
    "collapsed": false
   }
  },
  {
   "cell_type": "code",
   "execution_count": 13,
   "outputs": [
    {
     "name": "stdout",
     "output_type": "stream",
     "text": [
      "(1, 2, 3, 4, 5, 4)\n"
     ]
    }
   ],
   "source": [
    "tup1 = (1, 2, 3, 4, 5)\n",
    "tup2 = (4,)\n",
    "tup3 = tup1 + tup2\n",
    "print(tup3)"
   ],
   "metadata": {
    "collapsed": false
   }
  },
  {
   "cell_type": "code",
   "execution_count": 14,
   "outputs": [
    {
     "ename": "TypeError",
     "evalue": "'tuple' object does not support item assignment",
     "output_type": "error",
     "traceback": [
      "\u001B[0;31m---------------------------------------------------------------------------\u001B[0m",
      "\u001B[0;31mTypeError\u001B[0m                                 Traceback (most recent call last)",
      "Cell \u001B[0;32mIn[14], line 1\u001B[0m\n\u001B[0;32m----> 1\u001B[0m \u001B[43mtup1\u001B[49m\u001B[43m[\u001B[49m\u001B[38;5;241;43m2\u001B[39;49m\u001B[43m]\u001B[49m \u001B[38;5;241m=\u001B[39m \u001B[38;5;241m0\u001B[39m\n",
      "\u001B[0;31mTypeError\u001B[0m: 'tuple' object does not support item assignment"
     ]
    }
   ],
   "source": [
    "tup1[2] = 0"
   ],
   "metadata": {
    "collapsed": false
   }
  },
  {
   "cell_type": "code",
   "execution_count": 15,
   "outputs": [
    {
     "name": "stdout",
     "output_type": "stream",
     "text": [
      "(1, 2, 4, 5)\n"
     ]
    }
   ],
   "source": [
    "tup1 = tup1[:2] + tup1[3:]\n",
    "print(tup1)"
   ],
   "metadata": {
    "collapsed": false
   }
  },
  {
   "cell_type": "markdown",
   "source": [
    "# Packing and unpacking"
   ],
   "metadata": {
    "collapsed": false
   }
  },
  {
   "cell_type": "code",
   "execution_count": 16,
   "outputs": [
    {
     "name": "stdout",
     "output_type": "stream",
     "text": [
      "4 10 21\n"
     ]
    }
   ],
   "source": [
    "atup = (4, 10, 21)\n",
    "(a, b, c) = atup\n",
    "print(a, b, c)"
   ],
   "metadata": {
    "collapsed": false
   }
  },
  {
   "cell_type": "code",
   "execution_count": 17,
   "outputs": [
    {
     "name": "stdout",
     "output_type": "stream",
     "text": [
      "10 5\n"
     ]
    }
   ],
   "source": [
    "a = 5\n",
    "b = 10\n",
    "(a, b) = (b, a)\n",
    "print(a, b)"
   ],
   "metadata": {
    "collapsed": false
   }
  },
  {
   "cell_type": "code",
   "execution_count": 18,
   "outputs": [
    {
     "name": "stdout",
     "output_type": "stream",
     "text": [
      "[2, 3, 4, 5, 1]\n"
     ]
    }
   ],
   "source": [
    "alist = [1, 2, 3, 4, 5]\n",
    "for i in range(len(alist) - 1):\n",
    "    (alist[i], alist[i + 1]) = (alist[i + 1], alist[i])\n",
    "print(alist)"
   ],
   "metadata": {
    "collapsed": false
   }
  },
  {
   "cell_type": "code",
   "execution_count": 19,
   "outputs": [
    {
     "name": "stdout",
     "output_type": "stream",
     "text": [
      "[1, 2, 3, 10, 21, 4, 100, 5, 200]\n"
     ]
    }
   ],
   "source": [
    "plist = [10, 1, 2, 3, 100, 21, 4, 200, 5]\n",
    "for i in range(len(plist) - 1):\n",
    "    if plist[i] > plist[i + 1]:\n",
    "        (plist[i], plist[i + 1]) = (plist[i + 1], plist[i])\n",
    "print(plist)"
   ],
   "metadata": {
    "collapsed": false
   }
  },
  {
   "cell_type": "markdown",
   "source": [
    "# Dictionary"
   ],
   "metadata": {
    "collapsed": false
   }
  },
  {
   "cell_type": "code",
   "execution_count": 20,
   "outputs": [
    {
     "name": "stdout",
     "output_type": "stream",
     "text": [
      "21\n",
      "{'apples': 21, 'oranges': 100, 'bananas': 31, 'pears': 200}\n"
     ]
    }
   ],
   "source": [
    "inventory = {'apples': 21, 'oranges': 100, 'bananas': 31}\n",
    "print(inventory['apples'])\n",
    "inventory['pears'] = 200\n",
    "print(inventory)"
   ],
   "metadata": {
    "collapsed": false
   }
  },
  {
   "cell_type": "code",
   "execution_count": 21,
   "outputs": [
    {
     "name": "stdout",
     "output_type": "stream",
     "text": [
      "{'even': 4, 'odd': 3}\n"
     ]
    }
   ],
   "source": [
    "qlist = [10, 21, 30, 4, 5, 7, 8]\n",
    "d = {}\n",
    "counter = 0\n",
    "for i in range(len(qlist)):\n",
    "    if qlist[i] % 2 == 0:\n",
    "        counter += 1\n",
    "        d['even'] = counter\n",
    "d['odd'] = len(qlist) - d['even']\n",
    "print(d)"
   ],
   "metadata": {
    "collapsed": false
   }
  },
  {
   "cell_type": "code",
   "execution_count": 22,
   "outputs": [
    {
     "name": "stdout",
     "output_type": "stream",
     "text": [
      "apples\n",
      "oranges\n",
      "bananas\n",
      "pears\n"
     ]
    }
   ],
   "source": [
    "for a in inventory:\n",
    "    print(a)"
   ],
   "metadata": {
    "collapsed": false
   }
  },
  {
   "cell_type": "code",
   "execution_count": 23,
   "outputs": [
    {
     "name": "stdout",
     "output_type": "stream",
     "text": [
      "('even', 4)\n",
      "('odd', 3)\n"
     ]
    }
   ],
   "source": [
    "for item in d.items():\n",
    "    print(item)"
   ],
   "metadata": {
    "collapsed": false
   }
  },
  {
   "cell_type": "code",
   "execution_count": 24,
   "outputs": [
    {
     "name": "stdout",
     "output_type": "stream",
     "text": [
      "even 4\n",
      "odd 3\n"
     ]
    }
   ],
   "source": [
    "for (key, item) in d.items():\n",
    "    print(key, item)"
   ],
   "metadata": {
    "collapsed": false
   }
  },
  {
   "cell_type": "code",
   "execution_count": 25,
   "outputs": [
    {
     "ename": "KeyError",
     "evalue": "'apple'",
     "output_type": "error",
     "traceback": [
      "\u001B[0;31m---------------------------------------------------------------------------\u001B[0m",
      "\u001B[0;31mKeyError\u001B[0m                                  Traceback (most recent call last)",
      "Cell \u001B[0;32mIn[25], line 1\u001B[0m\n\u001B[0;32m----> 1\u001B[0m \u001B[38;5;28;01mdel\u001B[39;00m d[\u001B[38;5;124m'\u001B[39m\u001B[38;5;124mapple\u001B[39m\u001B[38;5;124m'\u001B[39m]\n",
      "\u001B[0;31mKeyError\u001B[0m: 'apple'"
     ]
    }
   ],
   "source": [
    "del d['apple']"
   ],
   "metadata": {
    "collapsed": false
   }
  },
  {
   "cell_type": "code",
   "execution_count": 26,
   "outputs": [
    {
     "name": "stdout",
     "output_type": "stream",
     "text": [
      "{'even': [10, 30, 4, 8], 'odd': [21, 5, 7]}\n"
     ]
    }
   ],
   "source": [
    "nums = {'even': [], 'odd': []}\n",
    "for i in range(len(qlist)):\n",
    "    if qlist[i] % 2 == 0:\n",
    "        nums['even'].append(qlist[i])\n",
    "    else:\n",
    "        nums['odd'].append(qlist[i])\n",
    "print(nums)"
   ],
   "metadata": {
    "collapsed": false
   }
  },
  {
   "cell_type": "code",
   "execution_count": 87,
   "outputs": [],
   "source": [
    "import math\n",
    "\n",
    "ans = {}\n",
    "for i in range(2, 12):\n",
    "    temp = True\n",
    "    counter = 0\n",
    "    for j in range(1, int(math.sqrt(i)) + 1):\n",
    "        if i % j == 0:\n",
    "            counter += 1\n",
    "    if counter != 1:\n",
    "        temp = False\n",
    "    if temp:\n",
    "        ans[i] = 'Prime'\n",
    "    else:\n",
    "        ans[i] = 'Not Prime'"
   ],
   "metadata": {
    "collapsed": false
   }
  },
  {
   "cell_type": "code",
   "execution_count": 88,
   "outputs": [
    {
     "name": "stdout",
     "output_type": "stream",
     "text": [
      "{2: 'Prime', 3: 'Prime', 4: 'Not Prime', 5: 'Prime', 6: 'Not Prime', 7: 'Prime', 8: 'Not Prime', 9: 'Not Prime', 10: 'Not Prime', 11: 'Prime'}\n"
     ]
    }
   ],
   "source": [
    "print(ans)"
   ],
   "metadata": {
    "collapsed": false
   }
  },
  {
   "cell_type": "code",
   "execution_count": 37,
   "outputs": [],
   "source": [
    "def swap(dictionary):\n",
    "    ansu = {}\n",
    "    for pl in dictionary.values():\n",
    "        ansu[pl] = []\n",
    "    for (pl, r) in dictionary.items():\n",
    "        ansu[r].append(pl)\n",
    "    return ansu"
   ],
   "metadata": {
    "collapsed": false
   }
  },
  {
   "cell_type": "code",
   "execution_count": 39,
   "outputs": [
    {
     "name": "stdout",
     "output_type": "stream",
     "text": [
      "{'Prime': [2, 3, 5, 7, 11], 'Not Prime': [4, 6, 8, 9, 10]}\n",
      "{4: ['even'], 3: ['odd']}\n"
     ]
    }
   ],
   "source": [
    "print(swap(ans))\n",
    "print(swap(d))"
   ],
   "metadata": {
    "collapsed": false
   }
  },
  {
   "cell_type": "markdown",
   "source": [
    "# Aliasing"
   ],
   "metadata": {
    "collapsed": false
   }
  },
  {
   "cell_type": "code",
   "execution_count": 41,
   "outputs": [
    {
     "name": "stdout",
     "output_type": "stream",
     "text": [
      "{'apples': 1000, 'oranges': 100, 'bananas': 31, 'pears': 200}\n",
      "{'apples': 1000, 'oranges': 100, 'bananas': 31, 'pears': 200}\n"
     ]
    }
   ],
   "source": [
    "test = inventory\n",
    "test['apples'] = 1000\n",
    "print(test)\n",
    "print(inventory)"
   ],
   "metadata": {
    "collapsed": false
   }
  },
  {
   "cell_type": "code",
   "execution_count": 42,
   "outputs": [
    {
     "name": "stdout",
     "output_type": "stream",
     "text": [
      "{'apples': 1500, 'oranges': 100, 'bananas': 31, 'pears': 200}\n",
      "{'apples': 1000, 'oranges': 100, 'bananas': 31, 'pears': 200}\n"
     ]
    }
   ],
   "source": [
    "bibs = inventory.copy()\n",
    "bibs['apples'] = 1500\n",
    "print(bibs)\n",
    "print(inventory)"
   ],
   "metadata": {
    "collapsed": false
   }
  },
  {
   "cell_type": "markdown",
   "source": [
    "# Exercises"
   ],
   "metadata": {
    "collapsed": false
   }
  },
  {
   "cell_type": "code",
   "execution_count": 51,
   "outputs": [],
   "source": [
    "def freq(s):\n",
    "    ansu = {}\n",
    "    for pl in range(26):\n",
    "        ansu[chr(pl + ord('a'))] = 0\n",
    "    for p in range(len(s)):\n",
    "        if s[p] in ansu.keys():\n",
    "            ansu[s[p]] += 1\n",
    "    return ansu"
   ],
   "metadata": {
    "collapsed": false
   }
  },
  {
   "cell_type": "code",
   "execution_count": 53,
   "outputs": [
    {
     "name": "stdout",
     "output_type": "stream",
     "text": [
      "{'a': 4, 'b': 2, 'c': 0, 'd': 0, 'e': 0, 'f': 0, 'g': 0, 'h': 0, 'i': 0, 'j': 0, 'k': 0, 'l': 0, 'm': 0, 'n': 0, 'o': 0, 'p': 0, 'q': 0, 'r': 0, 's': 0, 't': 0, 'u': 0, 'v': 0, 'w': 0, 'x': 0, 'y': 0, 'z': 1}\n"
     ]
    }
   ],
   "source": [
    "print(freq('ababa123?za'))"
   ],
   "metadata": {
    "collapsed": false
   }
  },
  {
   "cell_type": "code",
   "execution_count": 60,
   "outputs": [],
   "source": [
    "string = 'Hello Goose'"
   ],
   "metadata": {
    "collapsed": false
   }
  },
  {
   "cell_type": "code",
   "execution_count": 76,
   "outputs": [],
   "source": [
    "morse_code = {\n",
    "    'A': '.-',\n",
    "    'B': '-...',\n",
    "    'C': '-.-.',\n",
    "    'D': '-..',\n",
    "    'E': '.',\n",
    "    'F': '..-.',\n",
    "    'G': '--.',\n",
    "    'H': '....',\n",
    "    'I': '..',\n",
    "    'J': '.---',\n",
    "    'K': '-.-',\n",
    "    'L': '.-..',\n",
    "    'M': '--',\n",
    "    'N': '-.',\n",
    "    'O': '---',\n",
    "    'P': '.--.',\n",
    "    'Q': '--.-',\n",
    "    'R': '.-.',\n",
    "    'S': '...',\n",
    "    'T': '-',\n",
    "    'U': '..-',\n",
    "    'V': '...-',\n",
    "    'W': '.--',\n",
    "    'X': '-..-',\n",
    "    'Y': '-.--',\n",
    "    'Z': '--..'\n",
    "}"
   ],
   "metadata": {
    "collapsed": false
   }
  },
  {
   "cell_type": "code",
   "execution_count": 77,
   "outputs": [],
   "source": [
    "def to_morse(s):\n",
    "    ansu = ''\n",
    "    for pl in range(len(s) - 1):\n",
    "        if s[pl] != ' ':\n",
    "            ansu += morse_code[s[pl].upper()] + ' '\n",
    "        else:\n",
    "            ansu += ' '\n",
    "    ansu += morse_code[s[-1].upper()]\n",
    "    return ansu"
   ],
   "metadata": {
    "collapsed": false
   }
  },
  {
   "cell_type": "code",
   "execution_count": 78,
   "outputs": [
    {
     "name": "stdout",
     "output_type": "stream",
     "text": [
      ".... . .-.. .-.. ---  --. --- --- ... .\n"
     ]
    }
   ],
   "source": [
    "print(to_morse(string))"
   ],
   "metadata": {
    "collapsed": false
   }
  },
  {
   "cell_type": "code",
   "execution_count": 85,
   "outputs": [],
   "source": [
    "def decrypt_morse(s):\n",
    "    ansu = ''\n",
    "    tmp = ''\n",
    "    space = True\n",
    "    for pl in range(len(s)):\n",
    "        if s[pl] != ' ':\n",
    "            space = False\n",
    "            tmp += s[pl]\n",
    "        else:\n",
    "            if not space:\n",
    "                for code in morse_code.keys():\n",
    "                    if morse_code[code] == tmp:\n",
    "                        ansu += code\n",
    "                tmp = ''\n",
    "                space = True\n",
    "            else:\n",
    "                ansu += ' '\n",
    "    for code in morse_code.keys():\n",
    "                    if morse_code[code] == tmp:\n",
    "                        ansu += code\n",
    "    return ansu"
   ],
   "metadata": {
    "collapsed": false
   }
  },
  {
   "cell_type": "code",
   "execution_count": 86,
   "outputs": [
    {
     "name": "stdout",
     "output_type": "stream",
     "text": [
      "HELLO GOOSE\n"
     ]
    }
   ],
   "source": [
    "print(decrypt_morse(to_morse(string)))"
   ],
   "metadata": {
    "collapsed": false
   }
  },
  {
   "cell_type": "code",
   "execution_count": 90,
   "outputs": [],
   "source": [
    "alist = []\n",
    "for key in ans.keys():\n",
    "    if ans[key] == 'Prime':\n",
    "        alist.append(key)\n",
    "for q in range(len(alist)):\n",
    "    del ans[alist[q]]"
   ],
   "metadata": {
    "collapsed": false
   }
  },
  {
   "cell_type": "code",
   "execution_count": 91,
   "outputs": [
    {
     "name": "stdout",
     "output_type": "stream",
     "text": [
      "{4: 'Not Prime', 6: 'Not Prime', 8: 'Not Prime', 9: 'Not Prime', 10: 'Not Prime'}\n"
     ]
    }
   ],
   "source": [
    "print(ans)"
   ],
   "metadata": {
    "collapsed": false
   }
  },
  {
   "cell_type": "code",
   "execution_count": 94,
   "outputs": [
    {
     "data": {
      "text/plain": "48"
     },
     "execution_count": 94,
     "metadata": {},
     "output_type": "execute_result"
    }
   ],
   "source": [
    "ord('0')"
   ],
   "metadata": {
    "collapsed": false
   }
  },
  {
   "cell_type": "code",
   "execution_count": 95,
   "outputs": [],
   "source": [
    "def remove_digits(s):\n",
    "    ans = ''\n",
    "    for i in range(len(s)):\n",
    "        if ord(s[i]) < ord('0') or ord(s[i]) > ord('9'):\n",
    "            ans = ans + s[i]\n",
    "    return ans"
   ],
   "metadata": {
    "collapsed": false
   }
  },
  {
   "cell_type": "code",
   "execution_count": 98,
   "outputs": [
    {
     "name": "stdout",
     "output_type": "stream",
     "text": [
      "\n"
     ]
    }
   ],
   "source": [
    "print(remove_digits('1234'))"
   ],
   "metadata": {
    "collapsed": false
   }
  },
  {
   "cell_type": "code",
   "execution_count": null,
   "outputs": [],
   "source": [],
   "metadata": {
    "collapsed": false
   }
  }
 ],
 "metadata": {
  "kernelspec": {
   "display_name": "Python 3",
   "language": "python",
   "name": "python3"
  },
  "language_info": {
   "codemirror_mode": {
    "name": "ipython",
    "version": 2
   },
   "file_extension": ".py",
   "mimetype": "text/x-python",
   "name": "python",
   "nbconvert_exporter": "python",
   "pygments_lexer": "ipython2",
   "version": "2.7.6"
  }
 },
 "nbformat": 4,
 "nbformat_minor": 0
}
