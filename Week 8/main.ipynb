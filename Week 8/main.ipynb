{
 "cells": [
  {
   "cell_type": "code",
   "execution_count": 60,
   "metadata": {
    "collapsed": true
   },
   "outputs": [],
   "source": [
    "def format(num):\n",
    "    counter = 0\n",
    "    ans = ''\n",
    "    while num > 0:\n",
    "        counter += 1\n",
    "        ans = chr((num % 10) + 48) + ans\n",
    "        num //= 10\n",
    "        if counter % 3 == 0 and num > 0:\n",
    "            ans = ',' + ans\n",
    "    return ans"
   ]
  },
  {
   "cell_type": "code",
   "execution_count": 63,
   "outputs": [
    {
     "name": "stdout",
     "output_type": "stream",
     "text": [
      "1,234\n"
     ]
    }
   ],
   "source": [
    "print(format(1234))"
   ],
   "metadata": {
    "collapsed": false
   }
  },
  {
   "cell_type": "code",
   "execution_count": 64,
   "outputs": [],
   "source": [
    "def rotate(alist):\n",
    "    start = alist[0]\n",
    "    end = alist[-1]\n",
    "    ans = alist\n",
    "    ans[0] = end\n",
    "    ans[-1] = start\n",
    "    return ans"
   ],
   "metadata": {
    "collapsed": false
   }
  },
  {
   "cell_type": "code",
   "execution_count": 65,
   "outputs": [
    {
     "name": "stdout",
     "output_type": "stream",
     "text": [
      "[5, 2, 3, 4, 1]\n"
     ]
    }
   ],
   "source": [
    "print(rotate([1, 2, 3, 4, 5]))"
   ],
   "metadata": {
    "collapsed": false
   }
  },
  {
   "cell_type": "code",
   "execution_count": 66,
   "outputs": [],
   "source": [
    "def str_to_int(s):\n",
    "    ans = 0\n",
    "    counter = 0\n",
    "    for i in range(len(s)):\n",
    "        ans += (10 ** counter) * (ord(s[-i - 1]) - 48)\n",
    "        counter += 1\n",
    "    return ans"
   ],
   "metadata": {
    "collapsed": false
   }
  },
  {
   "cell_type": "code",
   "execution_count": 67,
   "outputs": [],
   "source": [
    "def solve(s):\n",
    "    eq = 0\n",
    "    for i in range(len(s)):\n",
    "        if s[i] == '=':\n",
    "            eq = i\n",
    "            break\n",
    "    a = str_to_int(s[2:eq])\n",
    "    b = str_to_int(s[eq + 1:])\n",
    "    return b - a"
   ],
   "metadata": {
    "collapsed": false
   }
  },
  {
   "cell_type": "code",
   "execution_count": 68,
   "outputs": [
    {
     "name": "stdout",
     "output_type": "stream",
     "text": [
      "88\n"
     ]
    }
   ],
   "source": [
    "print(solve('x+12=100'))"
   ],
   "metadata": {
    "collapsed": false
   }
  },
  {
   "cell_type": "code",
   "execution_count": 69,
   "outputs": [],
   "source": [
    "def count_words(s):\n",
    "    ans = 0\n",
    "    counter = 1\n",
    "    for i in range(len(s)):\n",
    "        if s[i] != ' ':\n",
    "            counter += 1\n",
    "        else:\n",
    "            if counter > 0:\n",
    "                ans += 1\n",
    "                counter = 0\n",
    "    if counter > 0:\n",
    "        ans += 1\n",
    "    return ans"
   ],
   "metadata": {
    "collapsed": false
   }
  },
  {
   "cell_type": "code",
   "execution_count": 70,
   "outputs": [
    {
     "name": "stdout",
     "output_type": "stream",
     "text": [
      "3\n"
     ]
    }
   ],
   "source": [
    "print(count_words('Hello           world   bibs'))"
   ],
   "metadata": {
    "collapsed": false
   }
  },
  {
   "cell_type": "code",
   "execution_count": 71,
   "outputs": [],
   "source": [
    "def is_almost_palendrome(alist):\n",
    "    counter = 0\n",
    "    for i in range(len(alist) // 2):\n",
    "        if alist[i] != alist[-i - 1]:\n",
    "            counter += 1\n",
    "    if counter == 1:\n",
    "        return True\n",
    "    else:\n",
    "        return False"
   ],
   "metadata": {
    "collapsed": false
   }
  },
  {
   "cell_type": "code",
   "execution_count": 72,
   "outputs": [
    {
     "name": "stdout",
     "output_type": "stream",
     "text": [
      "True\n"
     ]
    }
   ],
   "source": [
    "print(is_almost_palendrome([1, 2, 3, 5, 1]))"
   ],
   "metadata": {
    "collapsed": false
   }
  }
 ],
 "metadata": {
  "kernelspec": {
   "display_name": "Python 3",
   "language": "python",
   "name": "python3"
  },
  "language_info": {
   "codemirror_mode": {
    "name": "ipython",
    "version": 2
   },
   "file_extension": ".py",
   "mimetype": "text/x-python",
   "name": "python",
   "nbconvert_exporter": "python",
   "pygments_lexer": "ipython2",
   "version": "2.7.6"
  }
 },
 "nbformat": 4,
 "nbformat_minor": 0
}
